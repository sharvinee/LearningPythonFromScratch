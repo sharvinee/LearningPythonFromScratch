{
 "cells": [
  {
   "cell_type": "code",
   "execution_count": 1,
   "metadata": {},
   "outputs": [
    {
     "name": "stdout",
     "output_type": "stream",
     "text": [
      "list1 =  [2, 2.1, 'two', (2+2j), True]\n",
      "list2 =  [3, 3.1, 'three', (3+3j), False]\n"
     ]
    }
   ],
   "source": [
    "#1. Construct 2 lists containing all the available data types  (integer, float, string, complex and Boolean) \n",
    "\n",
    "list1 = [2, 2.1, 'two', 2+2j, True]\n",
    "print(\"list1 = \", list1)\n",
    "\n",
    "list2 = [3, 3.1, 'three', 3+3j, False]\n",
    "print(\"list2 = \", list2)"
   ]
  },
  {
   "cell_type": "code",
   "execution_count": 2,
   "metadata": {},
   "outputs": [
    {
     "name": "stdout",
     "output_type": "stream",
     "text": [
      "list3 =  [2, 2.1, 'two', (2+2j), True, 3, 3.1, 'three', (3+3j), False]\n"
     ]
    }
   ],
   "source": [
    "#1a. Create another list by concatenating above 2 lists\n",
    "\n",
    "list3 = list1+list2\n",
    "print(\"list3 = \", list3)"
   ]
  },
  {
   "cell_type": "code",
   "execution_count": 3,
   "metadata": {},
   "outputs": [
    {
     "name": "stdout",
     "output_type": "stream",
     "text": [
      "2:  1\n",
      "2.1:  1\n",
      "two:  1\n",
      "2+2j:  1\n",
      "True:  1\n",
      "3:  1\n",
      "3.1:  1\n",
      "three:  1\n",
      "3+3j:  1\n",
      "False:  1\n"
     ]
    }
   ],
   "source": [
    "#1b. Find the frequency of each element in the concatenated list.\n",
    "\n",
    "frequency = list3.count(2)\n",
    "print(\"2: \", frequency)\n",
    "list3.count(2.1)\n",
    "print(\"2.1: \", frequency)\n",
    "frequency = list3.count('two')\n",
    "print(\"two: \", frequency)\n",
    "frequency = list3.count(2+2j)\n",
    "print(\"2+2j: \", frequency)\n",
    "frequency = list3.count(True)\n",
    "print(\"True: \", frequency)\n",
    "frequency = list3.count(3)\n",
    "print(\"3: \", frequency)\n",
    "frequency = list3.count(3.1)\n",
    "print(\"3.1: \", frequency)\n",
    "frequency = list3.count(\"three\")\n",
    "print(\"three: \", frequency)\n",
    "frequency = list3.count(3+3j)\n",
    "print(\"3+3j: \", frequency)\n",
    "frequency = list3.count(False)\n",
    "print(\"False: \", frequency)"
   ]
  },
  {
   "cell_type": "code",
   "execution_count": 4,
   "metadata": {},
   "outputs": [
    {
     "data": {
      "text/plain": [
       "[False, (3+3j), 'three', 3.1, 3, True, (2+2j), 'two', 2.1, 2]"
      ]
     },
     "execution_count": 4,
     "metadata": {},
     "output_type": "execute_result"
    }
   ],
   "source": [
    "#1c. Print the list in reverse order.\n",
    "list3.reverse()\n",
    "list3"
   ]
  },
  {
   "cell_type": "code",
   "execution_count": 5,
   "metadata": {},
   "outputs": [
    {
     "name": "stdout",
     "output_type": "stream",
     "text": [
      "listA =  [1, 2, 3, 4, 5, 6, 7, 8, 9, 10]\n",
      "listB =  [5, 6, 7, 8, 9, 10, 11, 12, 13, 14, 15]\n"
     ]
    }
   ],
   "source": [
    "#2. Create 2 Sets containing integers (numbers from 1 to 10 in one set and 5 to 15 in other set)\n",
    "\n",
    "listA = [*range(1, 11)]\n",
    "print(\"listA = \", listA)\n",
    "\n",
    "listB = [*range(5, 16)]\n",
    "print(\"listB = \", listB)"
   ]
  },
  {
   "cell_type": "code",
   "execution_count": 6,
   "metadata": {},
   "outputs": [
    {
     "name": "stdout",
     "output_type": "stream",
     "text": [
      "common_elements =  [5, 6, 7, 8, 9, 10]\n"
     ]
    }
   ],
   "source": [
    "#2a. Find the common elements in above 2 Sets.\n",
    "\n",
    "common_elements = list(set(listA).intersection(listB))\n",
    "print(\"common_elements = \", common_elements)"
   ]
  },
  {
   "cell_type": "code",
   "execution_count": 7,
   "metadata": {},
   "outputs": [
    {
     "name": "stdout",
     "output_type": "stream",
     "text": [
      "union_list = [1, 2, 3, 4, 5, 6, 7, 8, 9, 10, 11, 12, 13, 14, 15]\n",
      "uncommon_elements =  [1, 2, 3, 4, 11, 12, 13, 14, 15]\n"
     ]
    }
   ],
   "source": [
    "#2b. Find the elements that are not common.\n",
    "\n",
    "union_list = list(set(listA) | set(listB))\n",
    "print(\"union_list =\", union_list) \n",
    "\n",
    "uncommon_elements = list(set(union_list) - set(common_elements))\n",
    "print(\"uncommon_elements = \", uncommon_elements)"
   ]
  },
  {
   "cell_type": "code",
   "execution_count": 8,
   "metadata": {
    "scrolled": true
   },
   "outputs": [
    {
     "name": "stdout",
     "output_type": "stream",
     "text": [
      "[8, 9, 10]\n",
      "[12, 13, 14, 15]\n"
     ]
    }
   ],
   "source": [
    "#2c. Remove element 7 from both the Sets.\n",
    "\n",
    "del listA[0:7]\n",
    "print(listA)\n",
    "\n",
    "del listB[0:7]\n",
    "print(listB)"
   ]
  },
  {
   "cell_type": "code",
   "execution_count": 10,
   "metadata": {},
   "outputs": [
    {
     "name": "stdout",
     "output_type": "stream",
     "text": [
      "{'Selangor': 100, 'Perak': 200, 'Johor': 300, 'Kedah': 400, 'Pahang': 500}\n"
     ]
    }
   ],
   "source": [
    "#3. Create a data dictionary of 5 states having state name as key and number of covid-19 cases as values.\n",
    "\n",
    "dict1 = {\"Selangor\": 100, \"Perak\": 200, \"Johor\": 300, \"Kedah\": 400, \"Pahang\": 500}\n",
    "print(dict1)"
   ]
  },
  {
   "cell_type": "code",
   "execution_count": 12,
   "metadata": {},
   "outputs": [
    {
     "data": {
      "text/plain": [
       "dict_keys(['Selangor', 'Perak', 'Johor', 'Kedah', 'Pahang'])"
      ]
     },
     "execution_count": 12,
     "metadata": {},
     "output_type": "execute_result"
    }
   ],
   "source": [
    "#3a. Print only state names from the dictionary.\n",
    "\n",
    "dict1.keys()"
   ]
  },
  {
   "cell_type": "code",
   "execution_count": 16,
   "metadata": {
    "scrolled": true
   },
   "outputs": [
    {
     "name": "stdout",
     "output_type": "stream",
     "text": [
      "{'Selangor': 100, 'Perak': 200, 'Johor': 300, 'Kedah': 400, 'Pahang': 500, 'China': 600}\n"
     ]
    }
   ],
   "source": [
    "#3b. Update another country and it’s covid-19 cases in the dictionary.\n",
    "\n",
    "dict1['China'] = 600\n",
    "\n",
    "dict1.update({'China': 600})\n",
    "print(dict1)"
   ]
  }
 ],
 "metadata": {
  "kernelspec": {
   "display_name": "Python 3",
   "language": "python",
   "name": "python3"
  },
  "language_info": {
   "codemirror_mode": {
    "name": "ipython",
    "version": 3
   },
   "file_extension": ".py",
   "mimetype": "text/x-python",
   "name": "python",
   "nbconvert_exporter": "python",
   "pygments_lexer": "ipython3",
   "version": "3.8.5"
  }
 },
 "nbformat": 4,
 "nbformat_minor": 4
}
